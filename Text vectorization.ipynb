{
 "cells": [
  {
   "cell_type": "code",
   "execution_count": 1,
   "metadata": {},
   "outputs": [
    {
     "name": "stdout",
     "output_type": "stream",
     "text": [
      "Populating the interactive namespace from numpy and matplotlib\n"
     ]
    }
   ],
   "source": [
    "%pylab inline"
   ]
  },
  {
   "cell_type": "code",
   "execution_count": 2,
   "metadata": {},
   "outputs": [],
   "source": [
    "from sklearn.feature_extraction.text import CountVectorizer, TfidfVectorizer"
   ]
  },
  {
   "cell_type": "code",
   "execution_count": 15,
   "metadata": {},
   "outputs": [],
   "source": [
    "vectorizer = CountVectorizer()"
   ]
  },
  {
   "cell_type": "code",
   "execution_count": 16,
   "metadata": {},
   "outputs": [
    {
     "data": {
      "text/plain": [
       "sklearn.feature_extraction.text.CountVectorizer"
      ]
     },
     "execution_count": 16,
     "metadata": {},
     "output_type": "execute_result"
    }
   ],
   "source": [
    "type(vectorizer)"
   ]
  },
  {
   "cell_type": "code",
   "execution_count": 17,
   "metadata": {},
   "outputs": [],
   "source": [
    "# Stop words - The, a, an, is\n",
    "\n",
    "data =  [\"The cat sat on the mat.\", \n",
    "    \"This cat is a nice cat.\",\n",
    "    \"That cat is a good one\"]"
   ]
  },
  {
   "cell_type": "code",
   "execution_count": 18,
   "metadata": {},
   "outputs": [
    {
     "data": {
      "text/plain": [
       "CountVectorizer(analyzer=u'word', binary=False, decode_error=u'strict',\n",
       "        dtype=<type 'numpy.int64'>, encoding=u'utf-8', input=u'content',\n",
       "        lowercase=True, max_df=1.0, max_features=None, min_df=1,\n",
       "        ngram_range=(1, 1), preprocessor=None, stop_words=None,\n",
       "        strip_accents=None, token_pattern=u'(?u)\\\\b\\\\w\\\\w+\\\\b',\n",
       "        tokenizer=None, vocabulary=None)"
      ]
     },
     "execution_count": 18,
     "metadata": {},
     "output_type": "execute_result"
    }
   ],
   "source": [
    "vectorizer.fit(data)"
   ]
  },
  {
   "cell_type": "code",
   "execution_count": 19,
   "metadata": {},
   "outputs": [
    {
     "data": {
      "text/plain": [
       "{u'cat': 0,\n",
       " u'good': 1,\n",
       " u'is': 2,\n",
       " u'mat': 3,\n",
       " u'nice': 4,\n",
       " u'on': 5,\n",
       " u'one': 6,\n",
       " u'sat': 7,\n",
       " u'that': 8,\n",
       " u'the': 9,\n",
       " u'this': 10}"
      ]
     },
     "execution_count": 19,
     "metadata": {},
     "output_type": "execute_result"
    }
   ],
   "source": [
    "vectorizer.vocabulary_"
   ]
  },
  {
   "cell_type": "code",
   "execution_count": 20,
   "metadata": {},
   "outputs": [],
   "source": [
    "data_vec = vectorizer.transform(data)"
   ]
  },
  {
   "cell_type": "code",
   "execution_count": 21,
   "metadata": {},
   "outputs": [],
   "source": [
    "data_vec = data_vec.toarray()"
   ]
  },
  {
   "cell_type": "code",
   "execution_count": 22,
   "metadata": {},
   "outputs": [
    {
     "data": {
      "text/plain": [
       "array([[1, 0, 0, 1, 0, 1, 0, 1, 0, 2, 0],\n",
       "       [2, 0, 1, 0, 1, 0, 0, 0, 0, 0, 1],\n",
       "       [1, 1, 1, 0, 0, 0, 1, 0, 1, 0, 0]])"
      ]
     },
     "execution_count": 22,
     "metadata": {},
     "output_type": "execute_result"
    }
   ],
   "source": [
    "data_vec"
   ]
  },
  {
   "cell_type": "code",
   "execution_count": 23,
   "metadata": {},
   "outputs": [
    {
     "data": {
      "text/plain": [
       "['The cat sat on the mat.',\n",
       " 'This cat is a nice cat.',\n",
       " 'That cat is a good one']"
      ]
     },
     "execution_count": 23,
     "metadata": {},
     "output_type": "execute_result"
    }
   ],
   "source": [
    "data"
   ]
  },
  {
   "cell_type": "code",
   "execution_count": 24,
   "metadata": {},
   "outputs": [],
   "source": [
    "vectorizer2 = TfidfVectorizer()"
   ]
  },
  {
   "cell_type": "code",
   "execution_count": null,
   "metadata": {},
   "outputs": [],
   "source": [
    "# term frequencey / document frequency  = term frequencey * (document frequency )^-1"
   ]
  },
  {
   "cell_type": "code",
   "execution_count": 25,
   "metadata": {},
   "outputs": [
    {
     "data": {
      "text/plain": [
       "TfidfVectorizer(analyzer=u'word', binary=False, decode_error=u'strict',\n",
       "        dtype=<type 'numpy.int64'>, encoding=u'utf-8', input=u'content',\n",
       "        lowercase=True, max_df=1.0, max_features=None, min_df=1,\n",
       "        ngram_range=(1, 1), norm=u'l2', preprocessor=None, smooth_idf=True,\n",
       "        stop_words=None, strip_accents=None, sublinear_tf=False,\n",
       "        token_pattern=u'(?u)\\\\b\\\\w\\\\w+\\\\b', tokenizer=None, use_idf=True,\n",
       "        vocabulary=None)"
      ]
     },
     "execution_count": 25,
     "metadata": {},
     "output_type": "execute_result"
    }
   ],
   "source": [
    "vectorizer2.fit(data)"
   ]
  },
  {
   "cell_type": "code",
   "execution_count": 26,
   "metadata": {},
   "outputs": [
    {
     "data": {
      "text/plain": [
       "{u'cat': 0,\n",
       " u'good': 1,\n",
       " u'is': 2,\n",
       " u'mat': 3,\n",
       " u'nice': 4,\n",
       " u'on': 5,\n",
       " u'one': 6,\n",
       " u'sat': 7,\n",
       " u'that': 8,\n",
       " u'the': 9,\n",
       " u'this': 10}"
      ]
     },
     "execution_count": 26,
     "metadata": {},
     "output_type": "execute_result"
    }
   ],
   "source": [
    "vectorizer2.vocabulary_"
   ]
  },
  {
   "cell_type": "code",
   "execution_count": 28,
   "metadata": {},
   "outputs": [
    {
     "data": {
      "text/plain": [
       "array([[0.21786941, 0.        , 0.        , 0.36888498, 0.        ,\n",
       "        0.36888498, 0.        , 0.36888498, 0.        , 0.73776997,\n",
       "        0.        ],\n",
       "       [0.59256672, 0.        , 0.38151877, 0.        , 0.50165133,\n",
       "        0.        , 0.        , 0.        , 0.        , 0.        ,\n",
       "        0.50165133],\n",
       "       [0.29803159, 0.50461134, 0.38376993, 0.        , 0.        ,\n",
       "        0.        , 0.50461134, 0.        , 0.50461134, 0.        ,\n",
       "        0.        ]])"
      ]
     },
     "execution_count": 28,
     "metadata": {},
     "output_type": "execute_result"
    }
   ],
   "source": [
    "vectorizer2.transform(data).toarray()"
   ]
  },
  {
   "cell_type": "code",
   "execution_count": 29,
   "metadata": {},
   "outputs": [
    {
     "data": {
      "text/plain": [
       "['The cat sat on the mat.',\n",
       " 'This cat is a nice cat.',\n",
       " 'That cat is a good one']"
      ]
     },
     "execution_count": 29,
     "metadata": {},
     "output_type": "execute_result"
    }
   ],
   "source": [
    "data"
   ]
  },
  {
   "cell_type": "code",
   "execution_count": 36,
   "metadata": {},
   "outputs": [],
   "source": [
    "# 2-gram ; 3\n",
    "# The_cat \n",
    "# cat_sat\n",
    "# sat_on\n",
    "# on_the\n",
    "# the_mat\n",
    "\n",
    "vectorizer = TfidfVectorizer(analyzer='char', ngram_range=(1,3))"
   ]
  },
  {
   "cell_type": "code",
   "execution_count": 37,
   "metadata": {},
   "outputs": [
    {
     "data": {
      "text/plain": [
       "{u' ': 0,\n",
       " u' a': 1,\n",
       " u' a ': 2,\n",
       " u' c': 3,\n",
       " u' ca': 4,\n",
       " u' g': 5,\n",
       " u' go': 6,\n",
       " u' i': 7,\n",
       " u' is': 8,\n",
       " u' m': 9,\n",
       " u' ma': 10,\n",
       " u' n': 11,\n",
       " u' ni': 12,\n",
       " u' o': 13,\n",
       " u' on': 14,\n",
       " u' s': 15,\n",
       " u' sa': 16,\n",
       " u' t': 17,\n",
       " u' th': 18,\n",
       " u'.': 19,\n",
       " u'a': 20,\n",
       " u'a ': 21,\n",
       " u'a g': 22,\n",
       " u'a n': 23,\n",
       " u'at': 24,\n",
       " u'at ': 25,\n",
       " u'at.': 26,\n",
       " u'c': 27,\n",
       " u'ca': 28,\n",
       " u'cat': 29,\n",
       " u'ce': 30,\n",
       " u'ce ': 31,\n",
       " u'd': 32,\n",
       " u'd ': 33,\n",
       " u'd o': 34,\n",
       " u'e': 35,\n",
       " u'e ': 36,\n",
       " u'e c': 37,\n",
       " u'e m': 38,\n",
       " u'g': 39,\n",
       " u'go': 40,\n",
       " u'goo': 41,\n",
       " u'h': 42,\n",
       " u'ha': 43,\n",
       " u'hat': 44,\n",
       " u'he': 45,\n",
       " u'he ': 46,\n",
       " u'hi': 47,\n",
       " u'his': 48,\n",
       " u'i': 49,\n",
       " u'ic': 50,\n",
       " u'ice': 51,\n",
       " u'is': 52,\n",
       " u'is ': 53,\n",
       " u'm': 54,\n",
       " u'ma': 55,\n",
       " u'mat': 56,\n",
       " u'n': 57,\n",
       " u'n ': 58,\n",
       " u'n t': 59,\n",
       " u'ne': 60,\n",
       " u'ni': 61,\n",
       " u'nic': 62,\n",
       " u'o': 63,\n",
       " u'od': 64,\n",
       " u'od ': 65,\n",
       " u'on': 66,\n",
       " u'on ': 67,\n",
       " u'one': 68,\n",
       " u'oo': 69,\n",
       " u'ood': 70,\n",
       " u's': 71,\n",
       " u's ': 72,\n",
       " u's a': 73,\n",
       " u's c': 74,\n",
       " u'sa': 75,\n",
       " u'sat': 76,\n",
       " u't': 77,\n",
       " u't ': 78,\n",
       " u't c': 79,\n",
       " u't i': 80,\n",
       " u't o': 81,\n",
       " u't s': 82,\n",
       " u't.': 83,\n",
       " u'th': 84,\n",
       " u'tha': 85,\n",
       " u'the': 86,\n",
       " u'thi': 87}"
      ]
     },
     "execution_count": 37,
     "metadata": {},
     "output_type": "execute_result"
    }
   ],
   "source": [
    "vectorizer.fit(\n",
    "    [\n",
    "    \"The cat sat on the mat.\",\n",
    "    \"This cat is a nice cat.\",\n",
    "    \"That cat is a good one\",\n",
    "])\n",
    "vectorizer.vocabulary_"
   ]
  },
  {
   "cell_type": "code",
   "execution_count": 38,
   "metadata": {},
   "outputs": [],
   "source": [
    "X = vectorizer.transform([\n",
    "    \"The cat sat on the mat.\",\n",
    "    \"This cat is a nice cat.\",\n",
    "    \"That cat is a good one\",\n",
    "])"
   ]
  },
  {
   "cell_type": "code",
   "execution_count": 39,
   "metadata": {},
   "outputs": [
    {
     "data": {
      "text/plain": [
       "array([[0.35530476, 0.        , 0.        , 0.07106095, 0.07106095,\n",
       "        0.        , 0.        , 0.        , 0.        , 0.12031665,\n",
       "        0.12031665, 0.        , 0.        , 0.09150391, 0.09150391,\n",
       "        0.12031665, 0.12031665, 0.12031665, 0.12031665, 0.09150391,\n",
       "        0.21318286, 0.        , 0.        , 0.        , 0.21318286,\n",
       "        0.1421219 , 0.09150391, 0.07106095, 0.07106095, 0.07106095,\n",
       "        0.        , 0.        , 0.        , 0.        , 0.        ,\n",
       "        0.1421219 , 0.18300783, 0.09150391, 0.12031665, 0.        ,\n",
       "        0.        , 0.        , 0.1421219 , 0.        , 0.        ,\n",
       "        0.2406333 , 0.2406333 , 0.        , 0.        , 0.        ,\n",
       "        0.        , 0.        , 0.        , 0.        , 0.12031665,\n",
       "        0.12031665, 0.12031665, 0.07106095, 0.12031665, 0.12031665,\n",
       "        0.        , 0.        , 0.        , 0.09150391, 0.        ,\n",
       "        0.        , 0.09150391, 0.12031665, 0.        , 0.        ,\n",
       "        0.        , 0.07106095, 0.        , 0.        , 0.        ,\n",
       "        0.12031665, 0.12031665, 0.35530476, 0.1421219 , 0.        ,\n",
       "        0.        , 0.12031665, 0.12031665, 0.09150391, 0.1421219 ,\n",
       "        0.        , 0.2406333 , 0.        ],\n",
       "       [0.37906444, 0.0976229 , 0.0976229 , 0.15162578, 0.15162578,\n",
       "        0.        , 0.        , 0.0976229 , 0.0976229 , 0.        ,\n",
       "        0.        , 0.12836238, 0.12836238, 0.        , 0.        ,\n",
       "        0.        , 0.        , 0.        , 0.        , 0.0976229 ,\n",
       "        0.22743866, 0.0976229 , 0.        , 0.12836238, 0.15162578,\n",
       "        0.07581289, 0.0976229 , 0.22743866, 0.15162578, 0.15162578,\n",
       "        0.12836238, 0.12836238, 0.        , 0.        , 0.        ,\n",
       "        0.07581289, 0.0976229 , 0.0976229 , 0.        , 0.        ,\n",
       "        0.        , 0.        , 0.07581289, 0.        , 0.        ,\n",
       "        0.        , 0.        , 0.12836238, 0.12836238, 0.29286869,\n",
       "        0.12836238, 0.12836238, 0.19524579, 0.19524579, 0.        ,\n",
       "        0.        , 0.        , 0.07581289, 0.        , 0.        ,\n",
       "        0.        , 0.12836238, 0.12836238, 0.        , 0.        ,\n",
       "        0.        , 0.        , 0.        , 0.        , 0.        ,\n",
       "        0.        , 0.15162578, 0.19524579, 0.0976229 , 0.12836238,\n",
       "        0.        , 0.        , 0.22743866, 0.07581289, 0.        ,\n",
       "        0.0976229 , 0.        , 0.        , 0.0976229 , 0.07581289,\n",
       "        0.        , 0.        , 0.12836238],\n",
       "       [0.3982767 , 0.10257075, 0.10257075, 0.07965534, 0.07965534,\n",
       "        0.13486821, 0.13486821, 0.10257075, 0.10257075, 0.        ,\n",
       "        0.        , 0.        , 0.        , 0.10257075, 0.10257075,\n",
       "        0.        , 0.        , 0.        , 0.        , 0.        ,\n",
       "        0.23896602, 0.10257075, 0.13486821, 0.        , 0.15931068,\n",
       "        0.15931068, 0.        , 0.07965534, 0.07965534, 0.07965534,\n",
       "        0.        , 0.        , 0.13486821, 0.13486821, 0.13486821,\n",
       "        0.07965534, 0.        , 0.        , 0.        , 0.13486821,\n",
       "        0.13486821, 0.13486821, 0.07965534, 0.13486821, 0.13486821,\n",
       "        0.        , 0.        , 0.        , 0.        , 0.10257075,\n",
       "        0.        , 0.        , 0.10257075, 0.10257075, 0.        ,\n",
       "        0.        , 0.        , 0.07965534, 0.        , 0.        ,\n",
       "        0.13486821, 0.        , 0.        , 0.30771226, 0.13486821,\n",
       "        0.13486821, 0.10257075, 0.        , 0.13486821, 0.13486821,\n",
       "        0.13486821, 0.07965534, 0.10257075, 0.10257075, 0.        ,\n",
       "        0.        , 0.        , 0.23896602, 0.15931068, 0.13486821,\n",
       "        0.10257075, 0.        , 0.        , 0.        , 0.07965534,\n",
       "        0.13486821, 0.        , 0.        ]])"
      ]
     },
     "execution_count": 39,
     "metadata": {},
     "output_type": "execute_result"
    }
   ],
   "source": [
    "X.toarray()"
   ]
  },
  {
   "cell_type": "code",
   "execution_count": 40,
   "metadata": {},
   "outputs": [],
   "source": [
    "# word2vec\n",
    "# glove vectors\n",
    "# bert"
   ]
  },
  {
   "cell_type": "code",
   "execution_count": null,
   "metadata": {},
   "outputs": [],
   "source": []
  }
 ],
 "metadata": {
  "kernelspec": {
   "display_name": "Python 2",
   "language": "python",
   "name": "python2"
  },
  "language_info": {
   "codemirror_mode": {
    "name": "ipython",
    "version": 2
   },
   "file_extension": ".py",
   "mimetype": "text/x-python",
   "name": "python",
   "nbconvert_exporter": "python",
   "pygments_lexer": "ipython2",
   "version": "2.7.16"
  }
 },
 "nbformat": 4,
 "nbformat_minor": 2
}
